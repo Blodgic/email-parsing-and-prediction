{
 "cells": [
  {
   "cell_type": "code",
   "execution_count": 4,
   "id": "3b17e052-b013-4189-a070-d82ff13deb1a",
   "metadata": {},
   "outputs": [],
   "source": [
    "#spiral matricx \n",
    "#Given an m x n matrix, return all elements of the matrix in spiral order.\n",
    "\n",
    "matrix = [[1,2,3],\n",
    "[4,5,6],\n",
    "[7,8,9]]\n",
    "#Output: [1,2,3,6,9,8,7,4,5]"
   ]
  },
  {
   "cell_type": "markdown",
   "id": "ba52af3b-79a8-4bb7-9343-4cfcfb12f3c1",
   "metadata": {},
   "source": [
    "# def printSpiral(mat, top, bottom, left, right):\n",
    " \n",
    "    # base case\n",
    "    if not mat or not len(mat) or left > right:\n",
    "        return\n",
    " \n",
    "    # print top row\n",
    "    for i in range(left, right + 1):\n",
    "        print(mat[top][i], end=' ')\n",
    " \n",
    "    top = top + 1\n",
    " \n",
    "    if top > bottom:\n",
    "        return\n",
    " \n",
    "    # print right column\n",
    "    for i in range(top, bottom + 1):\n",
    "        print(mat[i][right], end=' ')\n",
    " \n",
    "    right = right - 1\n",
    " \n",
    "    if left > right:\n",
    "        return\n",
    " \n",
    "    # print bottom row\n",
    "    for i in range(right, left - 1, -1):\n",
    "        print(mat[bottom][i], end=' ')\n",
    " \n",
    "    bottom = bottom - 1\n",
    " \n",
    "    if top > bottom:\n",
    "        return\n",
    " \n",
    "    # print left column\n",
    "    for i in range(bottom, top - 1, -1):\n",
    "        print(mat[i][left], end=' ')\n",
    " \n",
    "    left = left + 1\n",
    " \n",
    "    printSpiral(mat, top, bottom, left, right)"
   ]
  },
  {
   "cell_type": "code",
   "execution_count": 7,
   "id": "eefb2b72-e44c-4871-be35-dda74abe61ff",
   "metadata": {},
   "outputs": [
    {
     "name": "stdout",
     "output_type": "stream",
     "text": [
      "1 2 3 4 5 6 7 8 9 10 11 12 13 14 15 16 17 18 19 20 21 22 23 24 25 "
     ]
    }
   ],
   "source": [
    "if __name__ == '__main__':\n",
    " \n",
    "    mat = [\n",
    "        [1, 2, 3, 4, 5],\n",
    "        [16, 17, 18, 19, 6],\n",
    "        [15, 24, 25, 20, 7],\n",
    "        [14, 23, 22, 21, 8],\n",
    "        [13, 12, 11, 10, 9]\n",
    "    ]\n",
    " \n",
    "    top = 0\n",
    "    bottom = len(mat) - 1\n",
    "    left = 0\n",
    "    right = len(mat[0]) - 1\n",
    "\n",
    " \n",
    "    printSpiral(mat, top, bottom, left, right)"
   ]
  },
  {
   "cell_type": "code",
   "execution_count": 28,
   "id": "fbad57eb-96d5-448e-853e-e474fa3430ff",
   "metadata": {},
   "outputs": [
    {
     "data": {
      "text/plain": [
       "array([1, 2, 3, 4, 5])"
      ]
     },
     "execution_count": 28,
     "metadata": {},
     "output_type": "execute_result"
    }
   ],
   "source": [
    "#Given an array of integers nums, sort the array in ascending order.\n",
    "import numpy as np\n",
    "nums = [1,4,2,3,5]\n",
    "\n",
    "#leet code answer\n",
    "import numpy\n",
    "def sortArray(nums):\n",
    "    nums = np.sort(nums)\n",
    "    #reverse\n",
    "    #nums = sorted(nums, reverse=True)\n",
    "    return nums\n",
    "\n",
    "sortArray(nums)"
   ]
  },
  {
   "cell_type": "code",
   "execution_count": 68,
   "id": "d0df1bae-cb84-46f9-8775-856713e94017",
   "metadata": {},
   "outputs": [
    {
     "data": {
      "text/plain": [
       "[0, 2]"
      ]
     },
     "execution_count": 68,
     "metadata": {},
     "output_type": "execute_result"
    }
   ],
   "source": [
    "#Two Sum in array \n",
    "\n",
    "nums = [6,1,3,2]\n",
    "target = 9\n",
    "\n",
    "def twoSum(nums, target):\n",
    "    for i in range(len(nums)):\n",
    "        for j in range(i + 1, len(nums)):\n",
    "                if nums[j] == target - nums[i]:\n",
    "                    return [i, j]\n",
    "    \n",
    "twoSum(nums, target)"
   ]
  },
  {
   "cell_type": "code",
   "execution_count": 74,
   "id": "e34d62cf-ac45-4273-9014-c9f0ebef359e",
   "metadata": {},
   "outputs": [],
   "source": [
    "#Longest Substring w Unique Char | Python | Sliding Window | O(n)\n",
    "class Solution:\n",
    "    def lengthOfLongestSubstring(self, s: str) -> int:\n",
    "        freq_map ={}\n",
    "        window_start, max_len = 0,0\n",
    "        \n",
    "        for i in range(len(s)):\n",
    "            \n",
    "            if s[i] in freq_map:\n",
    "                window_start = max(window_start, freq_map[s[i]] + 1)\n",
    "            \n",
    "            freq_map[s[i]] = i\n",
    "            \n",
    "            max_len = max(max_len, i - window_start +1)\n",
    "            \n",
    "        return max_len"
   ]
  },
  {
   "cell_type": "code",
   "execution_count": null,
   "id": "d73c9972-be0d-48f2-be9a-2a03c879af4a",
   "metadata": {},
   "outputs": [],
   "source": []
  },
  {
   "cell_type": "code",
   "execution_count": 78,
   "id": "7dea1815-709d-4f6d-b592-ef3efb3c92b4",
   "metadata": {},
   "outputs": [
    {
     "data": {
      "text/plain": [
       "True"
      ]
     },
     "execution_count": 78,
     "metadata": {},
     "output_type": "execute_result"
    }
   ],
   "source": [
    "#has duplicate in array\n",
    "nums = [1,2,3,1,7, 9, 3,2]\n",
    "def containsDuplicate(nums):        \n",
    "    nums = sorted(nums)\n",
    "    for i in range (len(nums)-1):\n",
    "        if nums[i] == nums[i + 1]:\n",
    "            return True\n",
    "        return False\n",
    "\n",
    "containsDuplicate(nums)\n",
    "# if len(set(nums)) < len(nums)\n",
    "# else False"
   ]
  },
  {
   "cell_type": "code",
   "execution_count": 84,
   "id": "2b822b12-3d11-4f82-bf01-91bb53b2139d",
   "metadata": {},
   "outputs": [
    {
     "data": {
      "text/plain": [
       "True"
      ]
     },
     "execution_count": 84,
     "metadata": {},
     "output_type": "execute_result"
    }
   ],
   "source": [
    "#has duplicates \n",
    "def unique(s):\n",
    "    return True if len(set(s)) < len(s) else False\n",
    "    \n",
    "unique(nums)"
   ]
  },
  {
   "cell_type": "code",
   "execution_count": 101,
   "id": "e689fb6d-ba00-4771-86ef-adb4fdc47827",
   "metadata": {},
   "outputs": [
    {
     "data": {
      "text/plain": [
       "True"
      ]
     },
     "execution_count": 101,
     "metadata": {},
     "output_type": "execute_result"
    }
   ],
   "source": [
    "#check if palindrome\n",
    "def ispalindrome(word):\n",
    "    return word == word[::-1]\n",
    "ispalindrome('racecar')"
   ]
  },
  {
   "cell_type": "code",
   "execution_count": 96,
   "id": "12be84dd-77a6-41a1-a932-0fd757b37c10",
   "metadata": {},
   "outputs": [
    {
     "name": "stdin",
     "output_type": "stream",
     "text": [
      "How many terms?  7\n"
     ]
    },
    {
     "name": "stdout",
     "output_type": "stream",
     "text": [
      "Fibonacci sequence:\n",
      "0\n",
      "1\n",
      "1\n",
      "2\n",
      "3\n",
      "5\n",
      "8\n"
     ]
    }
   ],
   "source": [
    "#The Fibonacci sequence begins with the following 14 integers:\n",
    "#0, 1, 1, 2, 3, 5, 8, 13, 21, 34, 55, 89, 144, 233 ...\n",
    "\n",
    "# Program to display the Fibonacci sequence up to n-th term\n",
    "\n",
    "nterms = int(input(\"How many terms? \"))\n",
    "\n",
    "# first two terms\n",
    "n1, n2 = 0, 1\n",
    "count = 0\n",
    "\n",
    "# check if the number of terms is valid\n",
    "if nterms <= 0:\n",
    "   print(\"Please enter a positive integer\")\n",
    "# if there is only one term, return n1\n",
    "elif nterms == 1:\n",
    "   print(\"Fibonacci sequence upto\",nterms,\":\")\n",
    "   print(n1)\n",
    "# generate fibonacci sequence\n",
    "else:\n",
    "   print(\"Fibonacci sequence:\")\n",
    "   while count < nterms:\n",
    "       print(n1)\n",
    "       nth = n1 + n2\n",
    "       # update values\n",
    "       n1 = n2\n",
    "       n2 = nth\n",
    "       count += 1\n",
    "    \n",
    "        "
   ]
  },
  {
   "cell_type": "code",
   "execution_count": 99,
   "id": "21196ebc-afec-427e-8d08-7e6624d68713",
   "metadata": {},
   "outputs": [
    {
     "name": "stdout",
     "output_type": "stream",
     "text": [
      "144\n"
     ]
    }
   ],
   "source": [
    "def solve(n):\n",
    "   if n <= 2:\n",
    "      return n - 1\n",
    "   else:\n",
    "      return solve(n - 1) + solve(n - 2)\n",
    "\n",
    "n = 13\n",
    "print(solve(n))"
   ]
  },
  {
   "cell_type": "code",
   "execution_count": 100,
   "id": "4871ebec-6eae-47c8-89d7-78b6be0f9983",
   "metadata": {},
   "outputs": [],
   "source": [
    "#data manipulation"
   ]
  },
  {
   "cell_type": "markdown",
   "id": "a0b12a1b-4512-4057-9b02-0081fe269b75",
   "metadata": {},
   "source": [
    "“You are given a table containing assignment scores of students in a class. Write a query that identifies the largest difference in total score of all assignments. Output just the difference in total score between the two students.”"
   ]
  },
  {
   "cell_type": "code",
   "execution_count": null,
   "id": "77aa0186-e22f-4b5e-859f-22991985b052",
   "metadata": {},
   "outputs": [],
   "source": [
    "import pandas as pd\n",
    "import numpy as np\n",
    "box_scores['total_score'] = box_scores['assignment1']+box_scores['assignment2']+box_scores['assignment3']\n",
    "box_scores['total_score'].max() - box_scores['total_score'].min()\n"
   ]
  },
  {
   "cell_type": "markdown",
   "id": "879dc764-75f0-4c99-9974-25fee0157411",
   "metadata": {},
   "source": [
    "“Find the median inspection score of each business and output the result along with the business name. Order records based on the inspection score in descending order. Try to come up with your own precise median calculation. In Postgres there is `percentile_disc` function available, however it's only approximation.”"
   ]
  },
  {
   "cell_type": "code",
   "execution_count": null,
   "id": "b5d2f551-68bc-47f6-bbdf-67a18bc89661",
   "metadata": {},
   "outputs": [],
   "source": [
    "# Import your libraries\n",
    "import pandas as pd\n",
    "import numpy as np\n",
    "# Start writing code\n",
    "#sf_restaurant_health_violations.head()\n",
    "df_test2 = sf_restaurant_health_violations[sf_restaurant_health_violations[['business_name','inspection_score']].notnull().all(1)]\n",
    "df_test2 = df_test2[['business_name','inspection_score']]\n",
    "df_test2['inspection_score'] = df_test2['inspection_score'].astype(int)\n",
    "# df_test2 = df_test2.groupby('business_name').inspection_score.apply(np.median).reset_index()\n",
    "df_test2 = df_test2.groupby('business_name', as_index=False)['inspection_score'].agg('median')\n",
    "df_test2 = df_test2.sort_values(by='inspection_score', ascending=False)\n",
    "\n"
   ]
  },
  {
   "cell_type": "markdown",
   "id": "8eaf2c4a-90e2-499e-b38f-b4af1c3667a2",
   "metadata": {},
   "source": [
    "Find the titles of workers that earn the highest salary. Output the highest-paid title or multiple titles that share the highest salary."
   ]
  },
  {
   "cell_type": "code",
   "execution_count": null,
   "id": "d1bb278d-382a-46f9-99b8-d1aec87a0f03",
   "metadata": {},
   "outputs": [],
   "source": [
    "# worker.head()\n",
    "# title.head()\n",
    "# worker_title = pd.merge(worker, title, left_on=['worker_id'], right_on=['worker_ref_id'], how='inner')\n",
    "# answer = worker_title[worker_title['salary']==worker_title['salary'].max()]\n",
    "# answer = answer[['worker_title']]\n",
    "# answer"
   ]
  },
  {
   "cell_type": "markdown",
   "id": "3d9834fd-82d5-42d8-bf07-79b3d79a91e9",
   "metadata": {},
   "source": [
    "Find employees who are earning more than their managers. Output the employee's first name along with the corresponding salary."
   ]
  },
  {
   "cell_type": "code",
   "execution_count": null,
   "id": "18940390-8be6-4617-9aa5-8bfe03274c15",
   "metadata": {},
   "outputs": [],
   "source": [
    "combo = pd.merge(employee, employee, left_on='manager_id',right_on='id')\n",
    "combo[combo['salary_x'] > combo['salary_y']][['first_name_x', 'salary_x']]\n"
   ]
  },
  {
   "cell_type": "markdown",
   "id": "fc700050-0a4a-4a23-9f8b-b18a4fd9e2c3",
   "metadata": {},
   "source": [
    "Given a list of projects and employees mapped to each project, calculate by the amount of project budget allocated to each employee . The output should include the project title and the project budget rounded to the closest integer. Order your list by projects with the highest budget per employee first."
   ]
  },
  {
   "cell_type": "code",
   "execution_count": null,
   "id": "399c0a26-4cd5-4263-8300-1499c6432556",
   "metadata": {},
   "outputs": [],
   "source": [
    "# Import your libraries\n",
    "import pandas as pd\n",
    "\n",
    "# Start writing code\n",
    "#ms_projects.head()\n",
    "ms_emp_projects.head()\n",
    "combo = pd.merge(ms_projects, ms_emp_projects, left_on='id', right_on='project_id', how='inner')\n",
    "df1 = combo.groupby(['title', 'budget'])['emp_id'].size().reset_index()\n",
    "#df1['budget']/df1['emp_id']).round(0)\n",
    "df1['ratio'] = ((df1['budget']/df1['emp_id']).round(0))\n",
    "df1 = df1.sort_values(by='ratio', ascending=False)\n",
    "df1[['title', 'budget', 'ratio']]\n",
    "#df_test2 = df_test2.groupby('business_name', as_index=False)['inspection_score'].agg('median')\n"
   ]
  },
  {
   "cell_type": "markdown",
   "id": "68528213-28d9-4ea5-a460-d142281a1c34",
   "metadata": {},
   "source": [
    "We have a table with employees and their salaries, however, some of the records are old and contain outdated salary information. Find the current salary of each employee assuming that salaries increase each year. Output their id, first name, last name, department ID, and current salary. Order your list by employee ID in ascending order."
   ]
  },
  {
   "cell_type": "code",
   "execution_count": null,
   "id": "b44e4c64-ebb6-4ff2-9be1-50f48edfe005",
   "metadata": {},
   "outputs": [],
   "source": [
    "salary_sorted = ms_employee_salary.sort_values(by=\"salary\", ascending=False)\n",
    "salary_sorted.drop_duplicates(subset = ['id'], keep = 'first').sort_values(by='id',ascending=True)"
   ]
  },
  {
   "cell_type": "markdown",
   "id": "8c76e3d5-5858-4b36-9c0f-01f6fef2992b",
   "metadata": {},
   "source": [
    "Find the number of employees who received the bonus and who didn't.\n",
    "Output an indication of whether the bonus was received or not along with the corresponding number of employees.\n",
    "ex: if the bonus was received: 1, if not: 0."
   ]
  },
  {
   "cell_type": "code",
   "execution_count": null,
   "id": "fe703819-75dc-4615-8a49-76c27679eb84",
   "metadata": {},
   "outputs": [],
   "source": [
    "import numpy as np\n",
    "# Start writing code\n",
    "bonus_workers = pd.merge(employee, bonus, left_on='id', right_on='worker_ref_id', how='outer')\n",
    "\n",
    "bonus_workers['get_bonus'] = np.where(bonus_workers['bonus_amount'].notnull(), True, False)\n",
    "bonus_workers = bonus_workers.drop_duplicates(subset=['id'])\n",
    "bonus_workers.groupby('get_bonus')['id'].agg('count')"
   ]
  },
  {
   "cell_type": "markdown",
   "id": "09bf7931-5874-4e05-846c-1c9342d490cc",
   "metadata": {},
   "source": [
    "Unique Users Per Client Per Month"
   ]
  },
  {
   "cell_type": "code",
   "execution_count": null,
   "id": "258afb24-ebb2-406b-b062-d208cc167fe4",
   "metadata": {},
   "outputs": [],
   "source": [
    "fact_events.groupby([fact_events['client_id'], fact_events['time_id'].dt.month])['user_id'].nunique().reset_index()"
   ]
  },
  {
   "cell_type": "markdown",
   "id": "c5d2b4e9-d3ae-475c-98fa-660344aa4990",
   "metadata": {},
   "source": [
    "Number of records by variety \n",
    "Find the total number of records that belong to each variety in the dataset. Output the variety along with the corresponding number of records. Order records by the variety in ascending order."
   ]
  },
  {
   "cell_type": "code",
   "execution_count": null,
   "id": "8d09c828-af5f-4979-9c4b-c9ab9447bcb7",
   "metadata": {},
   "outputs": [],
   "source": [
    "iris.groupby('variety').agg('count').reset_index().sort_values(by='variety', ascending=True)"
   ]
  },
  {
   "cell_type": "markdown",
   "id": "1b17d46d-fbf3-4ec5-8a54-60084c3c7834",
   "metadata": {},
   "source": [
    "Users Exclusive Per Client\n",
    "\n",
    "Write a query that returns a number of users who are exclusive to only one client. Output the client_id and number of exclusive users."
   ]
  },
  {
   "cell_type": "code",
   "execution_count": null,
   "id": "cef95fbf-882f-4b32-b8de-d9aff813b566",
   "metadata": {},
   "outputs": [],
   "source": [
    "import pandas as pd\n",
    "\n",
    "fact_events['n_clients'] = fact_events.groupby('user_id')['client_id'].transform('nunique')\n",
    "result = fact_events[fact_events['n_clients']==1].groupby(['client_id'])['user_id'].nunique().reset_index()\n"
   ]
  },
  {
   "cell_type": "markdown",
   "id": "deb99d34-6bb1-4ca3-a2ba-cf964aa0d551",
   "metadata": {},
   "source": [
    "Bottom 2 Companies By Mobile Usage"
   ]
  },
  {
   "cell_type": "code",
   "execution_count": null,
   "id": "698aac4e-730a-45e6-98e9-d2e9774350d8",
   "metadata": {},
   "outputs": [],
   "source": [
    "# Import your libraries\n",
    "import pandas as pd\n",
    "\n",
    "# Start writing code\n",
    "mobile = fact_events[fact_events['client_id'] == 'mobile']\n",
    "events = mobile.groupby('customer_id')['event_type'].count().reset_index()\n",
    "events_mobile = events.sort_values(by='event_type')\n",
    "events_mobile['rank'] = events_mobile['event_type'].rank(method='dense')\n",
    "\n",
    "events_mobile[events_mobile['rank']<=2][['customer_id','event_type']]"
   ]
  },
  {
   "cell_type": "markdown",
   "id": "26e994c1-9dd3-41a1-b64c-875eabbbadfe",
   "metadata": {},
   "source": [
    "Top Company Where Users Use Desktop Only\n",
    "Write a query that returns the company (customer id column) with highest number of users that use desktop only."
   ]
  },
  {
   "cell_type": "code",
   "execution_count": null,
   "id": "ab7c59a5-a945-4813-88b8-18e242738207",
   "metadata": {},
   "outputs": [],
   "source": [
    "fact_events['n_clients'] = fact_events.groupby('user_id')['client_id'].transform('nunique')\n",
    "fact_events_one = fact_events[fact_events['n_clients'] == 1]\n",
    "\n",
    "desktop = fact_events_one[fact_events_one['client_id']=='desktop']\n",
    "desktop_only = desktop.groupby('customer_id')['client_id'].count().reset_index()\n",
    "desktop_only[['customer_id']]"
   ]
  },
  {
   "cell_type": "code",
   "execution_count": null,
   "id": "fb472301-232a-4629-8065-e0d56f56c34b",
   "metadata": {},
   "outputs": [],
   "source": [
    "#code to pull data from kafka cluster/topic\n",
    "# Databricks notebook source\n",
    "confluentApiKey = 'putkeyhere'\n",
    "# proper way to store secrets as FYI \n",
    "# dbutils.secrets.get(scope = \"confluent-cloud\", key = \"api-key\")\n",
    "confluentSecret = 'putsecret here'\n",
    "# how you should really store secrets in prod\n",
    "# dbutils.secrets.get(scope = \"confluent-cloud\", key = \"secret\")\n",
    "confluentClusterName = \"cluster-name-here\"\n",
    "confluentBootstrapServers = \"boostrapserver-name-here:9092\"\n",
    "confluentTopicName = \"put-your-topic-name-here\"\n",
    "\n",
    "# COMMAND ----------\n",
    "\n",
    "import pyspark.sql.functions as fn\n",
    "from pyspark.sql.types import StringType\n",
    " \n",
    "binary_to_string = fn.udf(lambda x: str(int.from_bytes(x, byteorder='big')), StringType())\n",
    " \n",
    "confluentStreamDF = (\n",
    "  spark\n",
    "  .readStream\n",
    "  .format(\"kafka\")\n",
    "  .option(\"kafka.bootstrap.servers\", confluentBootstrapServers)\n",
    "  .option(\"kafka.security.protocol\", \"SASL_SSL\")\n",
    "  .option(\"kafka.sasl.jaas.config\", \"kafkashaded.org.apache.kafka.common.security.plain.PlainLoginModule required username='{}' password='{}';\".format(confluentApiKey, confluentSecret))\n",
    "  .option(\"kafka.ssl.endpoint.identification.algorithm\", \"https\")\n",
    "  .option(\"kafka.sasl.mechanism\", \"PLAIN\")\n",
    "  .option(\"subscribe\", confluentTopicName)\n",
    "  .option(\"startingOffsets\", \"earliest\")\n",
    "  .option(\"failOnDataLoss\", \"false\")\n",
    "  .load()\n",
    "  .withColumn('key', fn.col(\"key\").cast(StringType()))\n",
    "  .withColumn('value', fn.col(\"value\").cast(StringType()))\n",
    ")\n",
    "\n",
    "# COMMAND ----------\n",
    "\n",
    "display(confluentStreamDF)\n"
   ]
  },
  {
   "cell_type": "code",
   "execution_count": 266,
   "id": "eb57d063-f8a2-48e9-bd6b-92e60718c1ff",
   "metadata": {},
   "outputs": [
    {
     "name": "stdout",
     "output_type": "stream",
     "text": [
      "bi-grams:  #a, ab,bc,cd,de,ef,fg ,g$\n"
     ]
    }
   ],
   "source": [
    "from nltk import word_tokenize\n",
    "from nltk.util import ngrams\n",
    "\n",
    "\n",
    "string_test = 'abcdefg'\n",
    "def ngrams(words, n):\n",
    "    print('bi-grams: ','#'+words[0]+',',\n",
    "          (','.join([words[i:i+n] for i in range(len(words)-n+1)])),\n",
    "          ','+words[-1]+'$')\n",
    "    \n",
    "ngrams(string_test, 2)\n",
    "\n",
    "\n",
    "      \n"
   ]
  },
  {
   "cell_type": "code",
   "execution_count": 271,
   "id": "c989bd72-be28-4f5f-9ee2-bc4161e35e1d",
   "metadata": {},
   "outputs": [
    {
     "data": {
      "text/plain": [
       "('a', ['ab'], 'g')"
      ]
     },
     "execution_count": 271,
     "metadata": {},
     "output_type": "execute_result"
    }
   ],
   "source": [
    "string_test = 'abcdefg'\n",
    "\n",
    "def ngrams2(words, n):\n",
    "    for i in range(len(words)):\n",
    "                   return (words[0],[words[i:i+n]], words[-1])\n",
    "    #for i in range(len(words)):\n",
    "        #for j in range(i+1, len(words)):\n",
    "               #return ([words[i:i+n] for i in range(len(words)-n+1)])\n",
    "    \n",
    "    #return ([words[i:i+n] for i in range(len(words)-n+1)])\n",
    "    #return ([words[i:i+n] for i in range(len(words)-n+1)])\n",
    "        \n",
    "\n",
    "\n",
    "     \n",
    "        \n",
    "        \n",
    "                   #\n",
    "                    #print([words[i,j]])\n",
    "\n",
    "ngrams2(string_test, 2)"
   ]
  },
  {
   "cell_type": "code",
   "execution_count": 136,
   "id": "8fcc52de-281f-4f3c-b053-fad9f7ce672f",
   "metadata": {},
   "outputs": [
    {
     "data": {
      "text/plain": [
       "True"
      ]
     },
     "execution_count": 136,
     "metadata": {},
     "output_type": "execute_result"
    }
   ],
   "source": [
    "answer = [5,4,3]\n",
    "\n",
    "def patho(numbers):\n",
    "    numbers.sort()\n",
    "    for i in range(len(numbers)):\n",
    "                   for j in range(i+1, len(numbers)):\n",
    "                       for k in range(j+1, len(numbers)):\n",
    "                        if numbers[i]**2+numbers[j]**2 == numbers[k]**2:\n",
    "                            return True\n",
    "    return False\n",
    "                        \n",
    "                        #else False\n",
    "\n",
    "    \n",
    "    #return numbers[0]^2+numbers[1]^2==numbers[2]^2\n",
    "\n",
    "patho(answer)"
   ]
  },
  {
   "cell_type": "code",
   "execution_count": 143,
   "id": "636f02b3-16d5-4ca3-a347-517c69a4befb",
   "metadata": {},
   "outputs": [
    {
     "name": "stdout",
     "output_type": "stream",
     "text": [
      "Got an A!\n"
     ]
    }
   ],
   "source": [
    "#lambda functions \n",
    "\n",
    "#add_two = lambda my_input: my_input + 2\n",
    "#print(add_two(3))\n",
    "\n",
    "#check if you got an A\n",
    "# check_if_A_grade = lambda grade: 'Got an A!' if grade >= 90 else \"No A\"\n",
    "# print(check_if_A_grade(90.1))\n",
    "\n",
    "#ends in a\n",
    "#Write your lambda function here\n",
    "ends_in_a = lambda ends_in_a: ends_in_a[-1] ==\"a\"\n",
    "\n",
    "print(ends_in_a(\"data\"))\n",
    "print(ends_in_a(\"aardvark\"))"
   ]
  },
  {
   "cell_type": "code",
   "execution_count": 144,
   "id": "38d690e1-0678-4c7f-bde8-57df1cfd19e2",
   "metadata": {},
   "outputs": [
    {
     "name": "stdout",
     "output_type": "stream",
     "text": [
      "even\n",
      "odd\n"
     ]
    }
   ],
   "source": [
    "#Write your lambda function here\n",
    "#Create a lambda function named even_or_odd that takes an integer named num. If num is even, return \"even\". If num is odd, return \"odd\".\n",
    "even_or_odd = lambda num: \"even\" if num % 2 == 0 else \"odd\"\n",
    "\n",
    "\n",
    "print(even_or_odd(10))\n",
    "print(even_or_odd(5))"
   ]
  },
  {
   "cell_type": "code",
   "execution_count": 147,
   "id": "4578b2c0-2d9a-4c38-aac5-e5f868f5f7c0",
   "metadata": {},
   "outputs": [
    {
     "name": "stdout",
     "output_type": "stream",
     "text": [
      "[3 6 1 4]\n"
     ]
    }
   ],
   "source": [
    "#numpy arrays \n",
    "import numpy as np\n",
    "toyPrices = np.array([5,8,3,6])\n",
    "print(toyPrices-2)\n",
    "\n",
    "\n"
   ]
  },
  {
   "cell_type": "code",
   "execution_count": 164,
   "id": "d113804e-5f71-46fc-9afc-c4a6a30baca1",
   "metadata": {},
   "outputs": [
    {
     "name": "stdout",
     "output_type": "stream",
     "text": [
      "[3, 6, 1, 4]\n"
     ]
    }
   ],
   "source": [
    "toyPrices = [5,8,3,6]\n",
    "\n",
    "for i in range(len(toyPrices)):\n",
    "        toyPrices[i] -= 2\n",
    "\n",
    "print(toyPrices)\n",
    "    "
   ]
  },
  {
   "cell_type": "code",
   "execution_count": 167,
   "id": "eb164f64-0985-4f45-961e-4c44e4948f70",
   "metadata": {},
   "outputs": [
    {
     "name": "stdout",
     "output_type": "stream",
     "text": [
      "Emma      13\n",
      "Swetha    25\n",
      "Serajh    19\n",
      "dtype: int64\n"
     ]
    }
   ],
   "source": [
    "import pandas as pd\n",
    "ages = np.array([13,25,19])\n",
    "\n",
    "series1 = pd.Series(ages, index=['Emma', 'Swetha', 'Serajh'])\n",
    "print(series1)"
   ]
  },
  {
   "cell_type": "code",
   "execution_count": 169,
   "id": "111e2a53-ca53-4f50-8361-eaff352c6fee",
   "metadata": {},
   "outputs": [
    {
     "data": {
      "text/html": [
       "<div>\n",
       "<style scoped>\n",
       "    .dataframe tbody tr th:only-of-type {\n",
       "        vertical-align: middle;\n",
       "    }\n",
       "\n",
       "    .dataframe tbody tr th {\n",
       "        vertical-align: top;\n",
       "    }\n",
       "\n",
       "    .dataframe thead th {\n",
       "        text-align: right;\n",
       "    }\n",
       "</style>\n",
       "<table border=\"1\" class=\"dataframe\">\n",
       "  <thead>\n",
       "    <tr style=\"text-align: right;\">\n",
       "      <th></th>\n",
       "      <th>name</th>\n",
       "      <th>address</th>\n",
       "      <th>age</th>\n",
       "    </tr>\n",
       "  </thead>\n",
       "  <tbody>\n",
       "    <tr>\n",
       "      <th>0</th>\n",
       "      <td>John Smith</td>\n",
       "      <td>123 Main St</td>\n",
       "      <td>34</td>\n",
       "    </tr>\n",
       "    <tr>\n",
       "      <th>1</th>\n",
       "      <td>Jane Doe</td>\n",
       "      <td>456 Maple Ave</td>\n",
       "      <td>28</td>\n",
       "    </tr>\n",
       "    <tr>\n",
       "      <th>2</th>\n",
       "      <td>Joe Schmo</td>\n",
       "      <td>789 Broadway</td>\n",
       "      <td>51</td>\n",
       "    </tr>\n",
       "  </tbody>\n",
       "</table>\n",
       "</div>"
      ],
      "text/plain": [
       "         name        address  age\n",
       "0  John Smith    123 Main St   34\n",
       "1    Jane Doe  456 Maple Ave   28\n",
       "2   Joe Schmo   789 Broadway   51"
      ]
     },
     "execution_count": 169,
     "metadata": {},
     "output_type": "execute_result"
    }
   ],
   "source": [
    "dataf = pd.DataFrame([\n",
    "    ['John Smith','123 Main St',34],\n",
    "    ['Jane Doe', '456 Maple Ave',28],\n",
    "    ['Joe Schmo', '789 Broadway',51]\n",
    "    ],\n",
    "    columns=['name','address','age'])\n",
    "dataf"
   ]
  }
 ],
 "metadata": {
  "kernelspec": {
   "display_name": "Python 3 (ipykernel)",
   "language": "python",
   "name": "python3"
  },
  "language_info": {
   "codemirror_mode": {
    "name": "ipython",
    "version": 3
   },
   "file_extension": ".py",
   "mimetype": "text/x-python",
   "name": "python",
   "nbconvert_exporter": "python",
   "pygments_lexer": "ipython3",
   "version": "3.9.13"
  }
 },
 "nbformat": 4,
 "nbformat_minor": 5
}
